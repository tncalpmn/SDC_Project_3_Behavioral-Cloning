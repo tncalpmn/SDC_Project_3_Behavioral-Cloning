{
 "cells": [
  {
   "cell_type": "code",
   "execution_count": 1,
   "metadata": {},
   "outputs": [
    {
     "name": "stderr",
     "output_type": "stream",
     "text": [
      "/Users/tunc/anaconda3/lib/python3.6/site-packages/h5py/__init__.py:34: FutureWarning: Conversion of the second argument of issubdtype from `float` to `np.floating` is deprecated. In future, it will be treated as `np.float64 == np.dtype(float).type`.\n",
      "  from ._conv import register_converters as _register_converters\n",
      "Using TensorFlow backend.\n"
     ]
    }
   ],
   "source": [
    "# Libraries\n",
    "import numpy as np\n",
    "import pandas as pd\n",
    "import tensorflow as tf\n",
    "from keras.models import Sequential\n",
    "from keras.layers import Dense, Flatten, Activation, Dropout, Lambda, Cropping2D\n",
    "from keras.layers.pooling import MaxPool2D\n",
    "import sklearn\n",
    "import cv2\n",
    "import os\n",
    "import csv\n",
    "import matplotlib as plt\n",
    "from sklearn.model_selection import train_test_split\n",
    "from PIL import Image\n",
    "import PIL"
   ]
  },
  {
   "cell_type": "code",
   "execution_count": 2,
   "metadata": {
    "collapsed": true
   },
   "outputs": [],
   "source": [
    "# Global Parameters and Swithes\n",
    "flip = True\n",
    "flipSuffixForImage = '_flipped.jpg'\n",
    "flipSuffixForCSV = '_flipped.csv'"
   ]
  },
  {
   "cell_type": "code",
   "execution_count": 3,
   "metadata": {},
   "outputs": [
    {
     "name": "stdout",
     "output_type": "stream",
     "text": [
      "Generating Flipped Images for Sample_1\n",
      "Generating Flipped Images for Sample_2\n",
      "Generating Flipped Images for Sample_3\n",
      "Generating Flipped Images for Sample_4\n",
      "Generating Flipped Images for Sample_5\n",
      "Generating Flipped Images for Sample_6\n",
      "Generating Flipped Images for Sample_7\n",
      "Images are flipped and saved successfully..\n"
     ]
    }
   ],
   "source": [
    "# Image Flipper\n",
    "imagePathRoot = \"./TrainingData\"\n",
    "allFileNames = [x for x in os.listdir(imagePathRoot) if  not x.startswith(\".\")]\n",
    "\n",
    "if flip:\n",
    "    for fileName in allFileNames:\n",
    "        print(\"Generating Flipped Images for\",fileName)\n",
    "        singleSamplePath = imagePathRoot +'/'+ fileName\n",
    "        flippedImagePath = singleSamplePath + '/Flipped_IMG'\n",
    "\n",
    "        if not os.path.exists(flippedImagePath):\n",
    "            os.makedirs(flippedImagePath)\n",
    "\n",
    "        imagePath = singleSamplePath + '/IMG'\n",
    "\n",
    "        allImageNames = os.listdir(imagePath)\n",
    "        for imgName in allImageNames:\n",
    "            image = Image.open(imagePath + '/' + imgName)\n",
    "            flipImage = image.transpose(PIL.Image.FLIP_LEFT_RIGHT)\n",
    "            flipImage.save(flippedImagePath+'/'+imgName.replace('.jpg','')+flipSuffixForImage, \"JPEG\")\n",
    "\n",
    "    print(\"Images are flipped and saved successfully..\")\n",
    "else:\n",
    "    print(\"Image flipping is not necessary anymore\")"
   ]
  },
  {
   "cell_type": "code",
   "execution_count": 4,
   "metadata": {},
   "outputs": [
    {
     "name": "stdout",
     "output_type": "stream",
     "text": [
      "Csv Files are flipped and saved successfully..\n"
     ]
    }
   ],
   "source": [
    "#Log Data Flipper\n",
    "if flip:\n",
    "    for fileName in allFileNames:\n",
    "        singleDrivingLogPath = imagePathRoot +'/'+ fileName +'/'+ \"driving_log.csv\"\n",
    "        allLinesFlipped = []\n",
    "        originalWithOutPaths = []\n",
    "        with open(singleDrivingLogPath) as csvfile:\n",
    "            reader = csv.reader(csvfile)\n",
    "            for line in reader:\n",
    "                orgLine = line.copy()\n",
    "                for i in range(0,3): # First three columns are document names and suffix has to be added\n",
    "                    #root = '/'.join(str(path) for path in line[i].split(\"/\")[:-1])\n",
    "                    line[i] = line[i].split(\"/\")[-1].split(\".\")[0] + flipSuffixForImage\n",
    "                    orgLine[i] = orgLine[i].split(\"/\")[-1].split(\".\")[0] + \".jpg\" \n",
    "                steeringAng = line[3] # Here steering is multiplied by -1\n",
    "                line[3] = str(-1 * float(steeringAng))\n",
    "                allLinesFlipped.append(line)\n",
    "                originalWithOutPaths.append(orgLine)\n",
    "        with open(imagePathRoot +'/'+ fileName +'/'+ \"driving_log\" + flipSuffixForCSV, \"w\") as csv_file:\n",
    "            writer = csv.writer(csv_file,delimiter=',')\n",
    "            for line in allLinesFlipped:\n",
    "                writer.writerow(line)\n",
    "        with open(imagePathRoot +'/'+ fileName +'/'+ \"driving_log\" + \"_without_path.csv\", \"w\") as csv_file:\n",
    "            writer = csv.writer(csv_file,delimiter=',')\n",
    "            for line in originalWithOutPaths:\n",
    "                writer.writerow(line)                \n",
    "    print(\"Csv Files are flipped and saved successfully..\")\n",
    "else:\n",
    "    print(\"Csv Flipping is not necessary anymore\")"
   ]
  },
  {
   "cell_type": "code",
   "execution_count": 5,
   "metadata": {},
   "outputs": [
    {
     "ename": "NameError",
     "evalue": "name 'STOP' is not defined",
     "output_type": "error",
     "traceback": [
      "\u001b[0;31m---------------------------------------------------------------------------\u001b[0m",
      "\u001b[0;31mNameError\u001b[0m                                 Traceback (most recent call last)",
      "\u001b[0;32m<ipython-input-5-acfe93283cd0>\u001b[0m in \u001b[0;36m<module>\u001b[0;34m()\u001b[0m\n\u001b[1;32m      1\u001b[0m \u001b[0;31m#Image Reader - Random Examples from each Sample\u001b[0m\u001b[0;34m\u001b[0m\u001b[0;34m\u001b[0m\u001b[0m\n\u001b[1;32m      2\u001b[0m \u001b[0;34m\u001b[0m\u001b[0m\n\u001b[0;32m----> 3\u001b[0;31m \u001b[0mSTOP\u001b[0m\u001b[0;34m\u001b[0m\u001b[0m\n\u001b[0m\u001b[1;32m      4\u001b[0m \u001b[0mimageDim\u001b[0m \u001b[0;34m=\u001b[0m \u001b[0;34m'''TODO-(depth,height,width)'''\u001b[0m\u001b[0;34m\u001b[0m\u001b[0m\n",
      "\u001b[0;31mNameError\u001b[0m: name 'STOP' is not defined"
     ]
    }
   ],
   "source": [
    "#Image Reader - Random Examples from each Sample\n",
    "\n",
    "STOP\n",
    "imageDim = '''TODO-(depth,height,width)''' "
   ]
  },
  {
   "cell_type": "code",
   "execution_count": null,
   "metadata": {
    "collapsed": true
   },
   "outputs": [],
   "source": [
    "# Show how much of the Image has to be cropped\n",
    "top = '''TODO-integer'''\n",
    "bottom = '''TODO-integer'''\n",
    "left = '''TODO-integer'''\n",
    "right = '''TODO-integer'''\n",
    "\n",
    "croppedImageDim = (imageDim[0],imageDim[1]-(top+bottom),imageDim[2]-(left+right))\n",
    "\n",
    "\n",
    "\n"
   ]
  },
  {
   "cell_type": "code",
   "execution_count": null,
   "metadata": {
    "collapsed": true
   },
   "outputs": [],
   "source": [
    "# NVIDIA Architecture + My improvements\n",
    "\n",
    "def myNet(train_Gen, validation_Gen, numOfTrainSample, numOfValSample, ep):\n",
    "\n",
    "    #Create the Keras Model\n",
    "    model = Sequential()\n",
    "\n",
    "    #Crop Images \n",
    "    model.add(Cropping2D(cropping=((top,bottom),(left,right)),input_shape=imageDim))\n",
    "\n",
    "    #Normalization and Mean center\n",
    "    model.add(Lambda(lambda x: (x/255.0)-0.5)) # TODO maybe also output_shape=croppedImageDim OR No size Paramenters at all?\n",
    "\n",
    "    #Convolutional Layer 1\n",
    "    model.add(Convolution2D(24,5,5))\n",
    "    model.add(Activation('relu'))\n",
    "\n",
    "    #Convolutional Layer 2\n",
    "    model.add(Convolution2D(36,5,5))\n",
    "    model.add(Activation('relu'))\n",
    "\n",
    "    #Convolutional Layer 3\n",
    "    model.add(Convolution2D(48,5,5))\n",
    "    model.add(Activation('relu'))\n",
    "\n",
    "    #Convolutional Layer 4\n",
    "    model.add(Convolution2D(64,3,3))\n",
    "    model.add(Activation('relu'))\n",
    "\n",
    "    #Convolutional Layer 5\n",
    "    model.add(Convolution2D(64,3,3))\n",
    "    model.add(Activation('relu'))\n",
    "\n",
    "    #Flatten\n",
    "    model.add(Flatten())\n",
    "\n",
    "    #Fully Connected Layer 1\n",
    "    model.add(Dense(100))\n",
    "    model.add(Dropout(0.5))\n",
    "    model.add(Activation('relu'))\n",
    "\n",
    "    #Fully Connected Layer 2\n",
    "    model.add(Dense(50))\n",
    "    model.add(Dropout(0.5)) #TODO ? MAX Pooling?\n",
    "\n",
    "    #Fully Connected Layer 3\n",
    "    model.add(Dense(10))\n",
    "    model.add(Activation('relu'))\n",
    "\n",
    "    #Final Output\n",
    "    model.add(Dense(1))\n",
    "\n",
    "    model.compile(loss='mse',optimizer='adam')\n",
    "    historyObj = model.fit_generator(X_Train_Gen, samples_per_epoch=numOfTrainSample,\n",
    "                        validation_data=validation_Gen, nb_val_samples=numOfValSample\n",
    "                        nb_epoch = ep, verbose=1)\n",
    "\n",
    "    return historyObj # Can be used for Visualing historyObj.history['loss'] and historyObj.history['loss'] && also check out Keys: print(history_object.history.keys())\n"
   ]
  }
 ],
 "metadata": {
  "kernelspec": {
   "display_name": "Python 3",
   "language": "python",
   "name": "python3"
  },
  "language_info": {
   "codemirror_mode": {
    "name": "ipython",
    "version": 3
   },
   "file_extension": ".py",
   "mimetype": "text/x-python",
   "name": "python",
   "nbconvert_exporter": "python",
   "pygments_lexer": "ipython3",
   "version": "3.6.3"
  }
 },
 "nbformat": 4,
 "nbformat_minor": 2
}
